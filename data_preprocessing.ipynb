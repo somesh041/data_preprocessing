{
  "nbformat": 4,
  "nbformat_minor": 0,
  "metadata": {
    "colab": {
      "name": "data_preprocessing.ipynb",
      "provenance": [],
      "collapsed_sections": [],
      "authorship_tag": "ABX9TyP1ecY1kvMcUPUKvrfLilhq",
      "include_colab_link": true
    },
    "kernelspec": {
      "name": "python3",
      "display_name": "Python 3"
    }
  },
  "cells": [
    {
      "cell_type": "markdown",
      "metadata": {
        "id": "view-in-github",
        "colab_type": "text"
      },
      "source": [
        "<a href=\"https://colab.research.google.com/github/somesh041/data_preprocessing/blob/master/data_preprocessing.ipynb\" target=\"_parent\"><img src=\"https://colab.research.google.com/assets/colab-badge.svg\" alt=\"Open In Colab\"/></a>"
      ]
    },
    {
      "cell_type": "markdown",
      "metadata": {
        "id": "66QYXGgoMI2t",
        "colab_type": "text"
      },
      "source": [
        "Data preprocessing in Python"
      ]
    },
    {
      "cell_type": "markdown",
      "metadata": {
        "id": "ZP8fXDT8Mdr_",
        "colab_type": "text"
      },
      "source": [
        "1. Importing the libraries"
      ]
    },
    {
      "cell_type": "code",
      "metadata": {
        "id": "VCS5eO8NMj1h",
        "colab_type": "code",
        "colab": {}
      },
      "source": [
        "import numpy as np\n",
        "import matplotlib.pyplot as plt\n",
        "import pandas as pd"
      ],
      "execution_count": 0,
      "outputs": []
    },
    {
      "cell_type": "markdown",
      "metadata": {
        "id": "PvWxvZYNM0C3",
        "colab_type": "text"
      },
      "source": [
        "2. Importing Dataset"
      ]
    },
    {
      "cell_type": "code",
      "metadata": {
        "id": "u3Zh6Ym_M5nu",
        "colab_type": "code",
        "colab": {}
      },
      "source": [
        "dataset= pd.read_csv('school.csv')\n",
        "x= dataset.iloc[:, :-1].values\n",
        "y= dataset.iloc[:, -1].values\n",
        "print(x)\n",
        "print(y)"
      ],
      "execution_count": 0,
      "outputs": []
    },
    {
      "cell_type": "markdown",
      "metadata": {
        "id": "f1s7F7lwryqW",
        "colab_type": "text"
      },
      "source": [
        "taking care of missing data"
      ]
    },
    {
      "cell_type": "code",
      "metadata": {
        "id": "vLq7SNpYsWHi",
        "colab_type": "code",
        "colab": {}
      },
      "source": [
        "from sklearn.impute import SimpleImputer\n",
        "imputer= SimpleImputer(missing_values=np.nan, strategy='mean')\n",
        "imputer.fit(x[:, 1:3])\n",
        "x[:, 1:3]=imputer.transform(x[:, 1:3])\n",
        "print(x)"
      ],
      "execution_count": 0,
      "outputs": []
    },
    {
      "cell_type": "markdown",
      "metadata": {
        "id": "uNkq1siT3UPF",
        "colab_type": "text"
      },
      "source": [
        "encoding categorical data"
      ]
    },
    {
      "cell_type": "markdown",
      "metadata": {
        "id": "acAe5sHUHfzy",
        "colab_type": "text"
      },
      "source": [
        "encoding the independent variable"
      ]
    },
    {
      "cell_type": "code",
      "metadata": {
        "id": "MxiE3fg9Hmho",
        "colab_type": "code",
        "colab": {}
      },
      "source": [
        "from sklearn.compose import ColumnTransformer\n",
        "from sklearn.preprocessing import OneHotEncoder\n",
        "ct= ColumnTransformer(transformers=[('encoder', OneHotEncoder(), [0])],remainder= 'passthrough')\n",
        "x=np.array(ct.fit_transform(x))"
      ],
      "execution_count": 0,
      "outputs": []
    },
    {
      "cell_type": "code",
      "metadata": {
        "id": "WkF9S4XTIs9r",
        "colab_type": "code",
        "colab": {}
      },
      "source": [
        "print(x)"
      ],
      "execution_count": 0,
      "outputs": []
    },
    {
      "cell_type": "markdown",
      "metadata": {
        "id": "is27qmKrJ4q1",
        "colab_type": "text"
      },
      "source": [
        "encoding the dependent variable"
      ]
    },
    {
      "cell_type": "code",
      "metadata": {
        "id": "JbE9yrvHJ9Qs",
        "colab_type": "code",
        "colab": {}
      },
      "source": [
        "from sklearn.preprocessing import LabelEncoder\n",
        "le = LabelEncoder()\n",
        "y=le.fit_transform(y)"
      ],
      "execution_count": 0,
      "outputs": []
    },
    {
      "cell_type": "code",
      "metadata": {
        "id": "MpIPKNjGKUmc",
        "colab_type": "code",
        "colab": {}
      },
      "source": [
        "print(y)"
      ],
      "execution_count": 0,
      "outputs": []
    },
    {
      "cell_type": "markdown",
      "metadata": {
        "id": "cnkJCu9IFLv1",
        "colab_type": "text"
      },
      "source": [
        "splitting the data into train set and test set"
      ]
    },
    {
      "cell_type": "code",
      "metadata": {
        "id": "AcmUFkTVFhWl",
        "colab_type": "code",
        "colab": {}
      },
      "source": [
        "from sklearn.model_selection import train_test_split\n",
        "x_train, x_test, y_train, y_test = train_test_split(x, y, test_size= 0.2, random_state=1)"
      ],
      "execution_count": 0,
      "outputs": []
    },
    {
      "cell_type": "code",
      "metadata": {
        "id": "ZakLk1rzGVez",
        "colab_type": "code",
        "colab": {}
      },
      "source": [
        "print(x_train)"
      ],
      "execution_count": 0,
      "outputs": []
    },
    {
      "cell_type": "code",
      "metadata": {
        "id": "0FQQdW1IGWPF",
        "colab_type": "code",
        "colab": {}
      },
      "source": [
        "print(x_test)"
      ],
      "execution_count": 0,
      "outputs": []
    },
    {
      "cell_type": "code",
      "metadata": {
        "id": "8giJGSsKGWY2",
        "colab_type": "code",
        "colab": {}
      },
      "source": [
        "print(y_train)"
      ],
      "execution_count": 0,
      "outputs": []
    },
    {
      "cell_type": "code",
      "metadata": {
        "id": "bkrT2Xw7GWjp",
        "colab_type": "code",
        "colab": {}
      },
      "source": [
        "print(y_test)"
      ],
      "execution_count": 0,
      "outputs": []
    },
    {
      "cell_type": "markdown",
      "metadata": {
        "id": "M2WZABzZfms_",
        "colab_type": "text"
      },
      "source": [
        "feature scaling"
      ]
    },
    {
      "cell_type": "code",
      "metadata": {
        "id": "sJUxbE-Nfpes",
        "colab_type": "code",
        "colab": {}
      },
      "source": [
        "from sklearn.preprocessing import StandardScaler\n",
        "sc = StandardScaler()\n",
        "x_train[:, 0:]= sc.fit_transform(x_train[:, 0:])\n",
        "x_test[:, 0:]= sc.transform(x_test[:, 0:])"
      ],
      "execution_count": 0,
      "outputs": []
    },
    {
      "cell_type": "code",
      "metadata": {
        "id": "zXbHuN5Ng_1E",
        "colab_type": "code",
        "colab": {}
      },
      "source": [
        "print(x_train)"
      ],
      "execution_count": 0,
      "outputs": []
    },
    {
      "cell_type": "code",
      "metadata": {
        "id": "ym_xvplPhAQE",
        "colab_type": "code",
        "colab": {}
      },
      "source": [
        "print(x_test)"
      ],
      "execution_count": 0,
      "outputs": []
    }
  ]
}